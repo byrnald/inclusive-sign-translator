{
  "cells": [
    {
      "cell_type": "markdown",
      "metadata": {},
      "source": [
        "# ASL Gesture Recognition Model Training\n",
        "\n",
        "This notebook trains a machine learning model to classify ASL gestures using hand landmarks from Mediapipe.\n"
      ]
    },
    {
      "cell_type": "code",
      "execution_count": null,
      "metadata": {},
      "outputs": [],
      "source": [
        "import json\n",
        "import numpy as np\n",
        "import pandas as pd\n",
        "from sklearn.model_selection import train_test_split\n",
        "from sklearn.ensemble import RandomForestClassifier\n",
        "from sklearn.svm import SVC\n",
        "from sklearn.neural_network import MLPClassifier\n",
        "from sklearn.metrics import classification_report, confusion_matrix\n",
        "import joblib\n",
        "import matplotlib.pyplot as plt\n",
        "import seaborn as sns\n"
      ]
    },
    {
      "cell_type": "code",
      "execution_count": null,
      "metadata": {},
      "outputs": [],
      "source": [
        "# Load training data\n",
        "with open('../data/raw/combined_dataset.json', 'r') as f:\n",
        "    data = json.load(f)\n",
        "\n",
        "print(f\"Loaded {len(data)} samples\")\n",
        "print(f\"Gestures: {set([sample['gesture'] for sample in data])}\")\n"
      ]
    },
    {
      "cell_type": "code",
      "execution_count": null,
      "metadata": {},
      "outputs": [],
      "source": [
        "def extract_features(landmarks):\n",
        "    \"\"\"Extract features from hand landmarks\"\"\"\n",
        "    landmarks = np.array(landmarks)\n",
        "    \n",
        "    # Calculate distances between key points\n",
        "    thumb_tip = landmarks[4]\n",
        "    index_tip = landmarks[8]\n",
        "    middle_tip = landmarks[12]\n",
        "    ring_tip = landmarks[16]\n",
        "    pinky_tip = landmarks[20]\n",
        "    \n",
        "    # Calculate distances\n",
        "    distances = []\n",
        "    key_points = [thumb_tip, index_tip, middle_tip, ring_tip, pinky_tip]\n",
        "    \n",
        "    for i in range(len(key_points)):\n",
        "        for j in range(i + 1, len(key_points)):\n",
        "            dist = np.linalg.norm(key_points[i] - key_points[j])\n",
        "            distances.append(dist)\n",
        "    \n",
        "    # Calculate angles\n",
        "    angles = []\n",
        "    for i in range(len(key_points) - 2):\n",
        "        v1 = key_points[i] - key_points[i + 1]\n",
        "        v2 = key_points[i + 1] - key_points[i + 2]\n",
        "        angle = np.arccos(np.dot(v1, v2) / (np.linalg.norm(v1) * np.linalg.norm(v2)))\n",
        "        angles.append(angle)\n",
        "    \n",
        "    # Combine features\n",
        "    features = np.concatenate([distances, angles])\n",
        "    \n",
        "    return features\n",
        "\n",
        "# Extract features and labels\n",
        "X = []\n",
        "y = []\n",
        "\n",
        "for sample in data:\n",
        "    features = extract_features(sample['landmarks'])\n",
        "    X.append(features)\n",
        "    y.append(sample['gesture'])\n",
        "\n",
        "X = np.array(X)\n",
        "y = np.array(y)\n",
        "\n",
        "print(f\"Feature matrix shape: {X.shape}\")\n",
        "print(f\"Labels shape: {y.shape}\")\n",
        "print(f\"Unique labels: {np.unique(y)}\")\n"
      ]
    },
    {
      "cell_type": "code",
      "execution_count": null,
      "metadata": {},
      "outputs": [],
      "source": [
        "# Split data into train and test sets\n",
        "X_train, X_test, y_train, y_test = train_test_split(\n",
        "    X, y, test_size=0.2, random_state=42, stratify=y\n",
        ")\n",
        "\n",
        "print(f\"Training set size: {X_train.shape[0]}\")\n",
        "print(f\"Test set size: {X_test.shape[0]}\")\n"
      ]
    },
    {
      "cell_type": "code",
      "execution_count": null,
      "metadata": {},
      "outputs": [],
      "source": [
        "# Train multiple models and compare\n",
        "models = {\n",
        "    'Random Forest': RandomForestClassifier(n_estimators=100, random_state=42),\n",
        "    'SVM': SVC(kernel='rbf', random_state=42),\n",
        "    'Neural Network': MLPClassifier(hidden_layer_sizes=(100, 50), random_state=42)\n",
        "}\n",
        "\n",
        "results = {}\n",
        "\n",
        "for name, model in models.items():\n",
        "    print(f\"\\nTraining {name}...\")\n",
        "    model.fit(X_train, y_train)\n",
        "    \n",
        "    # Predictions\n",
        "    y_pred = model.predict(X_test)\n",
        "    \n",
        "    # Calculate accuracy\n",
        "    accuracy = model.score(X_test, y_test)\n",
        "    results[name] = {\n",
        "        'model': model,\n",
        "        'accuracy': accuracy,\n",
        "        'predictions': y_pred\n",
        "    }\n",
        "    \n",
        "    print(f\"{name} Accuracy: {accuracy:.3f}\")\n",
        "    \n",
        "    # Classification report\n",
        "    print(f\"\\n{name} Classification Report:\")\n",
        "    print(classification_report(y_test, y_pred))\n"
      ]
    },
    {
      "cell_type": "code",
      "execution_count": null,
      "metadata": {},
      "outputs": [],
      "source": [
        "# Save the best model\n",
        "best_model_name = max(results.keys(), key=lambda k: results[k]['accuracy'])\n",
        "best_model = results[best_model_name]['model']\n",
        "\n",
        "print(f\"\\nBest model: {best_model_name} with accuracy: {results[best_model_name]['accuracy']:.3f}\")\n",
        "\n",
        "# Save model\n",
        "model_path = '../saved_models/asl_gesture_classifier.joblib'\n",
        "joblib.dump(best_model, model_path)\n",
        "print(f\"Model saved to: {model_path}\")\n",
        "\n",
        "# Save feature extractor function\n",
        "import pickle\n",
        "with open('../saved_models/feature_extractor.pkl', 'wb') as f:\n",
        "    pickle.dump(extract_features, f)\n",
        "print(\"Feature extractor saved to: ../saved_models/feature_extractor.pkl\")\n"
      ]
    }
  ],
  "metadata": {
    "language_info": {
      "name": "python"
    }
  },
  "nbformat": 4,
  "nbformat_minor": 2
}
